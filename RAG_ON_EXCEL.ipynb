{
 "cells": [
  {
   "cell_type": "code",
   "execution_count": null,
   "metadata": {},
   "outputs": [],
   "source": [
    "# Install the necessary packages\n",
    "!pip install -q langchain openai chromadb\n",
    "\n",
    "# Import necessary modules\n",
    "from langchain.document_loaders import CSVLoader\n",
    "from langchain.indexes import VectorstoreIndexCreator\n",
    "from langchain.chains import RetrievalQA\n",
    "from langchain_ollama import OllamaLLM, OllamaEmbeddings\n",
    "import os\n",
    "\n",
    "\n",
    "# Load the documents\n",
    "loader = CSVLoader(file_path='data/CSBS.csv')\n",
    "\n",
    "# Initialize the embedding model with Ollama\n",
    "embeddings = OllamaEmbeddings(model=\"nomic-embed-text\")\n",
    "\n",
    "# Create the VectorstoreIndexCreator with the embedding model\n",
    "index_creator = VectorstoreIndexCreator(embedding=embeddings)\n",
    "docsearch = index_creator.from_loaders([loader])\n",
    "\n",
    "# Initialize the LLM with Ollama\n",
    "model = OllamaLLM(model=\"llama3.1\")\n",
    "\n"
   ]
  },
  {
   "cell_type": "code",
   "execution_count": 3,
   "metadata": {},
   "outputs": [
    {
     "name": "stderr",
     "output_type": "stream",
     "text": [
      "/home/kavin/miniconda3/envs/sih/lib/python3.10/site-packages/langchain_core/_api/deprecation.py:141: LangChainDeprecationWarning: The method `Chain.__call__` was deprecated in langchain 0.1.0 and will be removed in 1.0. Use invoke instead.\n",
      "  warn_deprecated(\n"
     ]
    },
    {
     "name": "stdout",
     "output_type": "stream",
     "text": [
      "Based on the context, we can see that Ahmed and Priyadharshan both have a Gate Score (Out of 100) above 30. Therefore, the answer is: 2.\n"
     ]
    }
   ],
   "source": [
    "# Use the appropriate retriever method from vectorstore\n",
    "#from langchain.vectorstores import VectorStoreRetriever\n",
    "from langchain.indexes import VectorstoreIndexCreator\n",
    "\n",
    "# Create a retriever from the docsearch\n",
    "retriever = docsearch.vectorstore.as_retriever()  # Correct method to create retriever\n",
    "\n",
    "# Create the RetrievalQA chain\n",
    "chain = RetrievalQA.from_chain_type(\n",
    "    llm=model,\n",
    "    chain_type=\"stuff\",  # Use an appropriate chain type\n",
    "    retriever=retriever\n",
    ")\n",
    "\n",
    "# Define the query and get the response\n",
    "query = \"how many of them scored above 30?\"\n",
    "response = chain({\"query\": query})\n",
    "\n",
    "print(response['result'])\n"
   ]
  }
 ],
 "metadata": {
  "kernelspec": {
   "display_name": "sih",
   "language": "python",
   "name": "python3"
  },
  "language_info": {
   "codemirror_mode": {
    "name": "ipython",
    "version": 3
   },
   "file_extension": ".py",
   "mimetype": "text/x-python",
   "name": "python",
   "nbconvert_exporter": "python",
   "pygments_lexer": "ipython3",
   "version": "3.10.14"
  }
 },
 "nbformat": 4,
 "nbformat_minor": 2
}
